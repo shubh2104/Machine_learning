{
 "cells": [
  {
   "cell_type": "code",
   "execution_count": 1,
   "id": "5a3fa29f",
   "metadata": {},
   "outputs": [],
   "source": [
    "import pandas as pd\n",
    "import numpy as np"
   ]
  },
  {
   "cell_type": "code",
   "execution_count": 2,
   "id": "32282ca3",
   "metadata": {},
   "outputs": [],
   "source": [
    "data =pd.read_csv(\"car_sales.csv\")"
   ]
  },
  {
   "cell_type": "code",
   "execution_count": null,
   "id": "1f75fa4c",
   "metadata": {},
   "outputs": [],
   "source": []
  },
  {
   "cell_type": "code",
   "execution_count": 3,
   "id": "3f0db32c",
   "metadata": {},
   "outputs": [
    {
     "data": {
      "text/html": [
       "<div>\n",
       "<style scoped>\n",
       "    .dataframe tbody tr th:only-of-type {\n",
       "        vertical-align: middle;\n",
       "    }\n",
       "\n",
       "    .dataframe tbody tr th {\n",
       "        vertical-align: top;\n",
       "    }\n",
       "\n",
       "    .dataframe thead th {\n",
       "        text-align: right;\n",
       "    }\n",
       "</style>\n",
       "<table border=\"1\" class=\"dataframe\">\n",
       "  <thead>\n",
       "    <tr style=\"text-align: right;\">\n",
       "      <th></th>\n",
       "      <th>Unnamed: 0</th>\n",
       "      <th>Manufacturer</th>\n",
       "      <th>Model</th>\n",
       "      <th>Type</th>\n",
       "      <th>Min.Price</th>\n",
       "      <th>Price</th>\n",
       "      <th>Max.Price</th>\n",
       "      <th>MPG.city</th>\n",
       "      <th>MPG.highway</th>\n",
       "      <th>AirBags</th>\n",
       "      <th>...</th>\n",
       "      <th>Passengers</th>\n",
       "      <th>Length</th>\n",
       "      <th>Wheelbase</th>\n",
       "      <th>Width</th>\n",
       "      <th>Turn.circle</th>\n",
       "      <th>Rear.seat.room</th>\n",
       "      <th>Luggage.room</th>\n",
       "      <th>Weight</th>\n",
       "      <th>Origin</th>\n",
       "      <th>Make</th>\n",
       "    </tr>\n",
       "  </thead>\n",
       "  <tbody>\n",
       "    <tr>\n",
       "      <th>0</th>\n",
       "      <td>1</td>\n",
       "      <td>Acura</td>\n",
       "      <td>Integra</td>\n",
       "      <td>Small</td>\n",
       "      <td>12.9</td>\n",
       "      <td>15.9</td>\n",
       "      <td>18.8</td>\n",
       "      <td>25</td>\n",
       "      <td>31</td>\n",
       "      <td>None</td>\n",
       "      <td>...</td>\n",
       "      <td>5</td>\n",
       "      <td>177</td>\n",
       "      <td>102</td>\n",
       "      <td>68</td>\n",
       "      <td>37</td>\n",
       "      <td>26.5</td>\n",
       "      <td>11.0</td>\n",
       "      <td>2705</td>\n",
       "      <td>non-USA</td>\n",
       "      <td>Acura Integra</td>\n",
       "    </tr>\n",
       "    <tr>\n",
       "      <th>1</th>\n",
       "      <td>2</td>\n",
       "      <td>Acura</td>\n",
       "      <td>Legend</td>\n",
       "      <td>Midsize</td>\n",
       "      <td>29.2</td>\n",
       "      <td>33.9</td>\n",
       "      <td>38.7</td>\n",
       "      <td>18</td>\n",
       "      <td>25</td>\n",
       "      <td>Driver &amp; Passenger</td>\n",
       "      <td>...</td>\n",
       "      <td>5</td>\n",
       "      <td>195</td>\n",
       "      <td>115</td>\n",
       "      <td>71</td>\n",
       "      <td>38</td>\n",
       "      <td>30.0</td>\n",
       "      <td>15.0</td>\n",
       "      <td>3560</td>\n",
       "      <td>non-USA</td>\n",
       "      <td>Acura Legend</td>\n",
       "    </tr>\n",
       "    <tr>\n",
       "      <th>2</th>\n",
       "      <td>3</td>\n",
       "      <td>Audi</td>\n",
       "      <td>90</td>\n",
       "      <td>Compact</td>\n",
       "      <td>25.9</td>\n",
       "      <td>29.1</td>\n",
       "      <td>32.3</td>\n",
       "      <td>20</td>\n",
       "      <td>26</td>\n",
       "      <td>Driver only</td>\n",
       "      <td>...</td>\n",
       "      <td>5</td>\n",
       "      <td>180</td>\n",
       "      <td>102</td>\n",
       "      <td>67</td>\n",
       "      <td>37</td>\n",
       "      <td>28.0</td>\n",
       "      <td>14.0</td>\n",
       "      <td>3375</td>\n",
       "      <td>non-USA</td>\n",
       "      <td>Audi 90</td>\n",
       "    </tr>\n",
       "    <tr>\n",
       "      <th>3</th>\n",
       "      <td>4</td>\n",
       "      <td>Audi</td>\n",
       "      <td>100</td>\n",
       "      <td>Midsize</td>\n",
       "      <td>30.8</td>\n",
       "      <td>37.7</td>\n",
       "      <td>44.6</td>\n",
       "      <td>19</td>\n",
       "      <td>26</td>\n",
       "      <td>Driver &amp; Passenger</td>\n",
       "      <td>...</td>\n",
       "      <td>6</td>\n",
       "      <td>193</td>\n",
       "      <td>106</td>\n",
       "      <td>70</td>\n",
       "      <td>37</td>\n",
       "      <td>31.0</td>\n",
       "      <td>17.0</td>\n",
       "      <td>3405</td>\n",
       "      <td>non-USA</td>\n",
       "      <td>Audi 100</td>\n",
       "    </tr>\n",
       "    <tr>\n",
       "      <th>4</th>\n",
       "      <td>5</td>\n",
       "      <td>BMW</td>\n",
       "      <td>535i</td>\n",
       "      <td>Midsize</td>\n",
       "      <td>23.7</td>\n",
       "      <td>30.0</td>\n",
       "      <td>36.2</td>\n",
       "      <td>22</td>\n",
       "      <td>30</td>\n",
       "      <td>Driver only</td>\n",
       "      <td>...</td>\n",
       "      <td>4</td>\n",
       "      <td>186</td>\n",
       "      <td>109</td>\n",
       "      <td>69</td>\n",
       "      <td>39</td>\n",
       "      <td>27.0</td>\n",
       "      <td>13.0</td>\n",
       "      <td>3640</td>\n",
       "      <td>non-USA</td>\n",
       "      <td>BMW 535i</td>\n",
       "    </tr>\n",
       "  </tbody>\n",
       "</table>\n",
       "<p>5 rows × 28 columns</p>\n",
       "</div>"
      ],
      "text/plain": [
       "   Unnamed: 0 Manufacturer    Model     Type  Min.Price  Price  Max.Price  \\\n",
       "0           1        Acura  Integra    Small       12.9   15.9       18.8   \n",
       "1           2        Acura   Legend  Midsize       29.2   33.9       38.7   \n",
       "2           3         Audi       90  Compact       25.9   29.1       32.3   \n",
       "3           4         Audi      100  Midsize       30.8   37.7       44.6   \n",
       "4           5          BMW     535i  Midsize       23.7   30.0       36.2   \n",
       "\n",
       "   MPG.city  MPG.highway             AirBags  ... Passengers Length  \\\n",
       "0        25           31                None  ...          5    177   \n",
       "1        18           25  Driver & Passenger  ...          5    195   \n",
       "2        20           26         Driver only  ...          5    180   \n",
       "3        19           26  Driver & Passenger  ...          6    193   \n",
       "4        22           30         Driver only  ...          4    186   \n",
       "\n",
       "   Wheelbase  Width  Turn.circle  Rear.seat.room Luggage.room  Weight  \\\n",
       "0        102     68           37            26.5         11.0    2705   \n",
       "1        115     71           38            30.0         15.0    3560   \n",
       "2        102     67           37            28.0         14.0    3375   \n",
       "3        106     70           37            31.0         17.0    3405   \n",
       "4        109     69           39            27.0         13.0    3640   \n",
       "\n",
       "    Origin           Make  \n",
       "0  non-USA  Acura Integra  \n",
       "1  non-USA   Acura Legend  \n",
       "2  non-USA        Audi 90  \n",
       "3  non-USA       Audi 100  \n",
       "4  non-USA       BMW 535i  \n",
       "\n",
       "[5 rows x 28 columns]"
      ]
     },
     "execution_count": 3,
     "metadata": {},
     "output_type": "execute_result"
    }
   ],
   "source": [
    "data.head()"
   ]
  },
  {
   "cell_type": "code",
   "execution_count": 6,
   "id": "10669af1",
   "metadata": {},
   "outputs": [],
   "source": [
    "price_array =data['Price'].to_numpy()"
   ]
  },
  {
   "cell_type": "code",
   "execution_count": 7,
   "id": "2374167c",
   "metadata": {},
   "outputs": [
    {
     "data": {
      "text/plain": [
       "array([15.9, 33.9, 29.1, 37.7, 30. , 15.7, 20.8, 23.7, 26.3, 34.7, 40.1,\n",
       "       13.4, 11.4, 15.1, 15.9, 16.3, 16.6, 18.8, 38. , 18.4, 15.8, 29.5,\n",
       "        9.2, 11.3, 13.3, 19. , 15.6, 25.8, 12.2, 19.3,  7.4, 10.1, 11.3,\n",
       "       15.9, 14. , 19.9, 20.2, 20.9,  8.4, 12.5, 19.8, 12.1, 17.5,  8. ,\n",
       "       10. , 10. , 13.9, 47.9, 28. , 35.2, 34.3, 36.1,  8.3, 11.6, 16.5,\n",
       "       19.1, 32.5, 31.9, 61.9, 14.1, 14.9, 10.3, 26.1, 11.8, 15.7, 19.1,\n",
       "       21.5, 13.5, 16.3, 19.5, 20.7, 14.4,  9. , 11.1, 17.7, 18.5, 24.4,\n",
       "       28.7, 11.1,  8.4, 10.9, 19.5,  8.6,  9.8, 18.4, 18.2, 22.7,  9.1,\n",
       "       19.7, 20. , 23.3, 22.7, 26.7])"
      ]
     },
     "execution_count": 7,
     "metadata": {},
     "output_type": "execute_result"
    }
   ],
   "source": [
    "price_array"
   ]
  },
  {
   "cell_type": "code",
   "execution_count": 8,
   "id": "ebd27326",
   "metadata": {},
   "outputs": [],
   "source": [
    "price_mean =np.mean(price_array)"
   ]
  },
  {
   "cell_type": "code",
   "execution_count": 9,
   "id": "decd2c0e",
   "metadata": {},
   "outputs": [
    {
     "data": {
      "text/plain": [
       "19.50967741935484"
      ]
     },
     "execution_count": 9,
     "metadata": {},
     "output_type": "execute_result"
    }
   ],
   "source": [
    "price_mean"
   ]
  },
  {
   "cell_type": "code",
   "execution_count": 10,
   "id": "be917890",
   "metadata": {},
   "outputs": [
    {
     "data": {
      "text/plain": [
       "61.9"
      ]
     },
     "execution_count": 10,
     "metadata": {},
     "output_type": "execute_result"
    }
   ],
   "source": [
    "price_max = np.max(price_array)\n",
    "price_max"
   ]
  },
  {
   "cell_type": "code",
   "execution_count": 14,
   "id": "7677887e",
   "metadata": {},
   "outputs": [
    {
     "data": {
      "text/plain": [
       "array([[15.9],\n",
       "       [33.9],\n",
       "       [29.1],\n",
       "       [37.7],\n",
       "       [30. ],\n",
       "       [15.7],\n",
       "       [20.8],\n",
       "       [23.7],\n",
       "       [26.3],\n",
       "       [34.7],\n",
       "       [40.1],\n",
       "       [13.4],\n",
       "       [11.4],\n",
       "       [15.1],\n",
       "       [15.9],\n",
       "       [16.3],\n",
       "       [16.6],\n",
       "       [18.8],\n",
       "       [38. ],\n",
       "       [18.4],\n",
       "       [15.8],\n",
       "       [29.5],\n",
       "       [ 9.2],\n",
       "       [11.3],\n",
       "       [13.3],\n",
       "       [19. ],\n",
       "       [15.6],\n",
       "       [25.8],\n",
       "       [12.2],\n",
       "       [19.3],\n",
       "       [ 7.4],\n",
       "       [10.1],\n",
       "       [11.3],\n",
       "       [15.9],\n",
       "       [14. ],\n",
       "       [19.9],\n",
       "       [20.2],\n",
       "       [20.9],\n",
       "       [ 8.4],\n",
       "       [12.5],\n",
       "       [19.8],\n",
       "       [12.1],\n",
       "       [17.5],\n",
       "       [ 8. ],\n",
       "       [10. ],\n",
       "       [10. ],\n",
       "       [13.9],\n",
       "       [47.9],\n",
       "       [28. ],\n",
       "       [35.2],\n",
       "       [34.3],\n",
       "       [36.1],\n",
       "       [ 8.3],\n",
       "       [11.6],\n",
       "       [16.5],\n",
       "       [19.1],\n",
       "       [32.5],\n",
       "       [31.9],\n",
       "       [61.9],\n",
       "       [14.1],\n",
       "       [14.9],\n",
       "       [10.3],\n",
       "       [26.1],\n",
       "       [11.8],\n",
       "       [15.7],\n",
       "       [19.1],\n",
       "       [21.5],\n",
       "       [13.5],\n",
       "       [16.3],\n",
       "       [19.5],\n",
       "       [20.7],\n",
       "       [14.4],\n",
       "       [ 9. ],\n",
       "       [11.1],\n",
       "       [17.7],\n",
       "       [18.5],\n",
       "       [24.4],\n",
       "       [28.7],\n",
       "       [11.1],\n",
       "       [ 8.4],\n",
       "       [10.9],\n",
       "       [19.5],\n",
       "       [ 8.6],\n",
       "       [ 9.8],\n",
       "       [18.4],\n",
       "       [18.2],\n",
       "       [22.7],\n",
       "       [ 9.1],\n",
       "       [19.7],\n",
       "       [20. ],\n",
       "       [23.3],\n",
       "       [22.7],\n",
       "       [26.7]])"
      ]
     },
     "execution_count": 14,
     "metadata": {},
     "output_type": "execute_result"
    }
   ],
   "source": [
    "price_2d = np.reshape(price_array, (len(price_array), 1))\n",
    "price_2d"
   ]
  },
  {
   "cell_type": "code",
   "execution_count": null,
   "id": "8f021fd0",
   "metadata": {},
   "outputs": [],
   "source": [
    "# Calculate the correlation coefficient between two columns\n",
    "sales_col = data['Sales'].to_numpy()\n",
    "profit_col = data['Profit'].to_numpy()\n",
    "correlation = np.corrcoef(sales_col, profit_col)\n",
    "\n",
    "# Perform element-wise arithmetic operations on arrays\n",
    "discounts = data['Discount'].to_numpy()\n",
    "adjusted_prices = sales_col - discounts\n"
   ]
  },
  {
   "cell_type": "code",
   "execution_count": 16,
   "id": "99794578",
   "metadata": {},
   "outputs": [
    {
     "data": {
      "text/plain": [
       "array([[1.        , 0.90675608],\n",
       "       [0.90675608, 1.        ]])"
      ]
     },
     "execution_count": 16,
     "metadata": {},
     "output_type": "execute_result"
    }
   ],
   "source": [
    "min_price_col = data['Min.Price'].to_numpy()\n",
    "max_price_col = data['Max.Price'].to_numpy()\n",
    "correlation = np.corrcoef(min_price_col,max_price_col)\n",
    "correlation"
   ]
  },
  {
   "cell_type": "code",
   "execution_count": 17,
   "id": "4a328b0c",
   "metadata": {},
   "outputs": [],
   "source": [
    "# Create a new array filled with zeros\n",
    "zeros_array = np.zeros((10, 5))\n",
    "\n",
    "# Create an array with random values\n",
    "random_array = np.random.rand(100)\n",
    "\n",
    "# Reshape an array\n",
    "reshaped_array = random_array.reshape((10, 10))\n",
    "\n",
    "# Transpose an array\n",
    "transposed_array = reshaped_array.T\n"
   ]
  },
  {
   "cell_type": "code",
   "execution_count": 18,
   "id": "f2c7cdbb",
   "metadata": {},
   "outputs": [],
   "source": [
    "np.save('price_array.npy', price_array)\n"
   ]
  },
  {
   "cell_type": "code",
   "execution_count": null,
   "id": "3d02eaf5",
   "metadata": {},
   "outputs": [],
   "source": []
  }
 ],
 "metadata": {
  "kernelspec": {
   "display_name": "Python 3 (ipykernel)",
   "language": "python",
   "name": "python3"
  },
  "language_info": {
   "codemirror_mode": {
    "name": "ipython",
    "version": 3
   },
   "file_extension": ".py",
   "mimetype": "text/x-python",
   "name": "python",
   "nbconvert_exporter": "python",
   "pygments_lexer": "ipython3",
   "version": "3.9.12"
  }
 },
 "nbformat": 4,
 "nbformat_minor": 5
}
